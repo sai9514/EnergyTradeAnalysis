{
 "cells": [
  {
   "cell_type": "code",
   "execution_count": 45,
   "metadata": {},
   "outputs": [],
   "source": [
    "import networkx as nx\n",
    "import os\n",
    "import numpy as np\n",
    "import scipy.stats as stats\n",
    "import matplotlib.pyplot as plt\n",
    "import pandas as pd\n",
    "import csv\n",
    "import copy\n",
    "from scipy.optimize import curve_fit\n",
    "import collections"
   ]
  },
  {
   "cell_type": "code",
   "execution_count": 2,
   "metadata": {},
   "outputs": [],
   "source": [
    "# Reading in the union network saved after data prep\n",
    "ports = ['1', '2']\n",
    "years = ['2005', '2010', '2015', '2017']\n",
    "codes = ['2701', '2709', '2711']\n",
    "\n",
    "GUnion = {(year, code): nx.DiGraph() for year in years for code in codes}\n",
    "\n",
    "for gKey in GUnion:\n",
    "    GUnion[gKey] = nx.read_gpickle(\"PycharmProjects/EnergyTradeAnalysis/Database/GPickleData/GUnion_\" + str(gKey) + \".gp\")"
   ]
  },
  {
   "cell_type": "code",
   "execution_count": 3,
   "metadata": {},
   "outputs": [],
   "source": [
    "# Creating a dict with sum of node weights and assigning it to strength variable for each node\n",
    "for gKey in GUnion:\n",
    "    nodeAttrs = {}\n",
    "    for node in GUnion[gKey].nodes():\n",
    "        weightNode = 0\n",
    "        for edge in GUnion[gKey].edges():\n",
    "            if node == edge[0] or node == edge[1]:\n",
    "                weightNode += GUnion[gKey][edge[0]][edge[1]]['weight']\n",
    "        nodeAttrs[node] = {'strength': weightNode}\n",
    "    nx.set_node_attributes(GUnion[gKey], nodeAttrs)"
   ]
  },
  {
   "cell_type": "code",
   "execution_count": 4,
   "metadata": {},
   "outputs": [],
   "source": [
    "# Getting nodeStrength in dictionary for all 12 networks\n",
    "nodeStrength = {}\n",
    "for gKey in GUnion:\n",
    "    nodeStrength[gKey] = pd.DataFrame.from_dict(dict(GUnion[gKey].nodes('strength')), orient='index')\n",
    "    nodeStrength[gKey].sort_values(by=0, ascending=False).to_csv('PycharmProjects/EnergyTradeAnalysis/Results/NodeStrengthUnion/NodeStrUnion_' + str(gKey) + '.csv', mode = 'w')"
   ]
  },
  {
   "cell_type": "code",
   "execution_count": 38,
   "metadata": {},
   "outputs": [
    {
     "data": {
      "text/plain": [
       "<Figure size 720x540 with 0 Axes>"
      ]
     },
     "metadata": {},
     "output_type": "display_data"
    },
    {
     "data": {
      "text/plain": [
       "<Figure size 720x540 with 0 Axes>"
      ]
     },
     "metadata": {},
     "output_type": "display_data"
    },
    {
     "data": {
      "text/plain": [
       "<Figure size 720x540 with 0 Axes>"
      ]
     },
     "metadata": {},
     "output_type": "display_data"
    },
    {
     "data": {
      "text/plain": [
       "<Figure size 720x540 with 0 Axes>"
      ]
     },
     "metadata": {},
     "output_type": "display_data"
    },
    {
     "data": {
      "text/plain": [
       "<Figure size 720x540 with 0 Axes>"
      ]
     },
     "metadata": {},
     "output_type": "display_data"
    },
    {
     "data": {
      "text/plain": [
       "<Figure size 720x540 with 0 Axes>"
      ]
     },
     "metadata": {},
     "output_type": "display_data"
    },
    {
     "data": {
      "text/plain": [
       "<Figure size 720x540 with 0 Axes>"
      ]
     },
     "metadata": {},
     "output_type": "display_data"
    },
    {
     "data": {
      "text/plain": [
       "<Figure size 720x540 with 0 Axes>"
      ]
     },
     "metadata": {},
     "output_type": "display_data"
    },
    {
     "data": {
      "text/plain": [
       "<Figure size 720x540 with 0 Axes>"
      ]
     },
     "metadata": {},
     "output_type": "display_data"
    },
    {
     "data": {
      "text/plain": [
       "<Figure size 720x540 with 0 Axes>"
      ]
     },
     "metadata": {},
     "output_type": "display_data"
    },
    {
     "data": {
      "text/plain": [
       "<Figure size 720x540 with 0 Axes>"
      ]
     },
     "metadata": {},
     "output_type": "display_data"
    },
    {
     "data": {
      "text/plain": [
       "<Figure size 720x540 with 0 Axes>"
      ]
     },
     "metadata": {},
     "output_type": "display_data"
    }
   ],
   "source": [
    "# Node Strength Log Histogram\n",
    "\n",
    "for year in years:\n",
    "    for code in codes:    \n",
    "        x = list(nodeStrength[year, code][0])\n",
    "        x = pd.Series(x)\n",
    "\n",
    "        plt.figure(figsize=(10, 7.5))\n",
    "\n",
    "        ax = plt.subplot(111)\n",
    "        ax.get_xaxis().tick_bottom()  \n",
    "        ax.get_yaxis().tick_left()  \n",
    "\n",
    "        plt.xticks(fontsize=14)  \n",
    "        plt.yticks(fontsize=14)  \n",
    "\n",
    "        plt.xlabel(\"Log Node Strength\", fontsize=16)  \n",
    "        plt.ylabel(\"Frequency\", fontsize=16)  \n",
    "\n",
    "        # histogram on log scale. \n",
    "        # Use non-equal bin sizes, such that they look equal on log scale.\n",
    "        #logbins = np.logspace(np.log10(x.min()),np.log10(x.max()),50)\n",
    "        logbins = np.geomspace(x.min()+0.000001, x.max(), 50)\n",
    "        plt.hist(x, color=\"#3F5D7D\", ec='black', bins=logbins)\n",
    "        plt.xscale('log')\n",
    "        plt.savefig(\"PycharmProjects/EnergyTradeAnalysis/Results/GraphsUnion/NodeStrength/NodeStr_\" + str(code) + \"_\" + str(year) + \".png\", bbox_inches='tight', format='png', dpi=300)\n",
    "        plt.clf()\n"
   ]
  },
  {
   "cell_type": "code",
   "execution_count": 39,
   "metadata": {},
   "outputs": [],
   "source": [
    "centrality = {}\n",
    "in_centrality = {}\n",
    "out_centrality = {}\n",
    "eigen_centrality = {}\n",
    "in_degree = {}\n",
    "out_degree = {}\n",
    "degree = {}\n",
    "\n",
    "for graphKey in GUnion:\n",
    "    centrality[graphKey] = nx.degree_centrality(GUnion[graphKey])\n",
    "    in_centrality[graphKey] = nx.in_degree_centrality(GUnion[graphKey])\n",
    "    out_centrality[graphKey] = nx.out_degree_centrality(GUnion[graphKey])\n",
    "    eigen_centrality[graphKey] = nx.eigenvector_centrality_numpy(GUnion[graphKey], weight = 'weight')\n",
    "    in_degree[graphKey] = {x: GUnion[graphKey].in_degree(x) for x in GUnion[graphKey].nodes()}\n",
    "    out_degree[graphKey] = {x: GUnion[graphKey].out_degree(x) for x in GUnion[graphKey].nodes()}\n",
    "    degree[graphKey] = {x: GUnion[graphKey].degree(x) for x in GUnion[graphKey].nodes()}\n",
    "        \n",
    "results = {}\n",
    "for year in years:\n",
    "    for code in codes:\n",
    "        results[year, code] = pd.DataFrame({\n",
    "                                    'Centrality': list(centrality[year, code].values()), \n",
    "                                    'In-Centrality': list(in_centrality[year, code].values()), \n",
    "                                    'Out-Centrality': list(out_centrality[year, code].values()),\n",
    "                                    'Eigen Centrality': list(eigen_centrality[year, code].values()),\n",
    "                                    'Degree': list(degree[year, code].values()),\n",
    "                                    'In-Degree': list(in_degree[year, code].values()), \n",
    "                                    'Out-Degree': list(out_degree[year, code].values())\n",
    "                                     }, index = GUnion[year, code].nodes())\n"
   ]
  },
  {
   "cell_type": "code",
   "execution_count": 40,
   "metadata": {},
   "outputs": [],
   "source": [
    "for year in years:\n",
    "    for code in codes:\n",
    "        results[year, code].sort_values(by=['Degree'], ascending=False).to_csv(\"PycharmProjects/EnergyTradeAnalysis/Results/DetailsUnion/Details_\" + str(year) + \"_\" + str(code) + \".csv\")               "
   ]
  },
  {
   "cell_type": "code",
   "execution_count": 78,
   "metadata": {},
   "outputs": [],
   "source": [
    "# Exclude couple of nodes which have 0 degree\n",
    "for year in years:\n",
    "    for code in codes:\n",
    "        results[year, code] =  results[year, code][results[year, code].Degree != 0]"
   ]
  },
  {
   "cell_type": "code",
   "execution_count": 54,
   "metadata": {},
   "outputs": [],
   "source": [
    "# Power Law Fitting in next few cells\n",
    "# Function to calculate the power-law with constants a and b\n",
    "def power_law(x, a, b):\n",
    "    return a*np.power(x, b)"
   ]
  },
  {
   "cell_type": "code",
   "execution_count": 79,
   "metadata": {},
   "outputs": [
    {
     "data": {
      "text/plain": [
       "<Figure size 432x288 with 0 Axes>"
      ]
     },
     "metadata": {},
     "output_type": "display_data"
    },
    {
     "data": {
      "text/plain": [
       "<Figure size 432x288 with 0 Axes>"
      ]
     },
     "metadata": {},
     "output_type": "display_data"
    },
    {
     "data": {
      "text/plain": [
       "<Figure size 432x288 with 0 Axes>"
      ]
     },
     "metadata": {},
     "output_type": "display_data"
    },
    {
     "data": {
      "text/plain": [
       "<Figure size 432x288 with 0 Axes>"
      ]
     },
     "metadata": {},
     "output_type": "display_data"
    },
    {
     "data": {
      "text/plain": [
       "<Figure size 432x288 with 0 Axes>"
      ]
     },
     "metadata": {},
     "output_type": "display_data"
    },
    {
     "data": {
      "text/plain": [
       "<Figure size 432x288 with 0 Axes>"
      ]
     },
     "metadata": {},
     "output_type": "display_data"
    },
    {
     "data": {
      "text/plain": [
       "<Figure size 432x288 with 0 Axes>"
      ]
     },
     "metadata": {},
     "output_type": "display_data"
    },
    {
     "data": {
      "text/plain": [
       "<Figure size 432x288 with 0 Axes>"
      ]
     },
     "metadata": {},
     "output_type": "display_data"
    },
    {
     "data": {
      "text/plain": [
       "<Figure size 432x288 with 0 Axes>"
      ]
     },
     "metadata": {},
     "output_type": "display_data"
    },
    {
     "data": {
      "text/plain": [
       "<Figure size 432x288 with 0 Axes>"
      ]
     },
     "metadata": {},
     "output_type": "display_data"
    },
    {
     "data": {
      "text/plain": [
       "<Figure size 432x288 with 0 Axes>"
      ]
     },
     "metadata": {},
     "output_type": "display_data"
    },
    {
     "data": {
      "text/plain": [
       "<Figure size 432x288 with 0 Axes>"
      ]
     },
     "metadata": {},
     "output_type": "display_data"
    }
   ],
   "source": [
    "paramType = 'Degree'\n",
    "params = {}\n",
    "\n",
    "for year in years:\n",
    "    for code in codes[:3]:\n",
    "        dataList = list(results[year, code][paramType])\n",
    "        \n",
    "        # Getting Frequency and Degree in separate but similar lists\n",
    "        # Degree - x values, Frequency - y values\n",
    "        counter=collections.Counter(dataList)\n",
    "        df = pd.DataFrame(columns=['Degree','Frequency'])\n",
    "        for k, v in counter.items():\n",
    "            df.loc[len(df)] = [k, v]\n",
    "        df = df.sort_values(by = 'Degree')\n",
    "\n",
    "        fig, ax = plt.subplots()\n",
    "\n",
    "        # Set the x and y-axis scaling to logarithmic\n",
    "        ax.set_xscale('log')\n",
    "        ax.set_yscale('log')\n",
    "\n",
    "        # Edit the major and minor tick locations of x and y axes\n",
    "        ax.set_xlim(0.5, 300)\n",
    "        ax.set_ylim(0.5, 200)\n",
    "        plt.xticks(fontsize=14)  \n",
    "        plt.yticks(fontsize=14)  \n",
    "\n",
    "        ax.set_ylabel('Frequency', fontsize=16)\n",
    "        ax.set_xlabel('Degree',  fontsize=16)\n",
    "        ax.scatter(list(df['Degree']), list(df['Frequency']), s = 10, color=\"#3F5D7D\", label='data')\n",
    "\n",
    "        # Fit the dummy power-law data\n",
    "        pars, cov = curve_fit(f=power_law, xdata=list(df['Degree']), ydata=list(df['Frequency']), p0=[0, 0], bounds=(-np.inf, np.inf))\n",
    "\n",
    "        params[year, code] = pars\n",
    "\n",
    "        ax.plot(list(df['Degree']), power_law(list(df['Degree']), *pars), color=\"#FF7F0E\", label='fit: a=%5.3f, b=%5.3f' % tuple(pars))\n",
    "        ax.legend(prop={'size': 14})\n",
    "        \n",
    "        figname = 'PycharmProjects/EnergyTradeAnalysis/Results/Fit/DegDistrFit' + '_' + code + \"_\" + year \n",
    "        plt.savefig(figname +'.png', bbox_inches='tight', dpi=300)\n",
    "        plt.clf()\n"
   ]
  },
  {
   "cell_type": "code",
   "execution_count": 82,
   "metadata": {},
   "outputs": [],
   "source": [
    "params\n",
    "with open('PycharmProjects/EnergyTradeAnalysis/Results/Fit/degDistrPowerLawParams.csv', 'w') as csv_file:\n",
    "    writer = csv.writer(csv_file)\n",
    "    writer.writerow([\"year\",\"code\", \"a\", \"b\"])\n",
    "    for k,v in params.items():\n",
    "        writer.writerow([k[0], k[1], v[0], v[1]])"
   ]
  },
  {
   "cell_type": "code",
   "execution_count": 86,
   "metadata": {},
   "outputs": [
    {
     "data": {
      "text/plain": [
       "<Figure size 720x540 with 0 Axes>"
      ]
     },
     "metadata": {},
     "output_type": "display_data"
    },
    {
     "data": {
      "text/plain": [
       "<Figure size 720x540 with 0 Axes>"
      ]
     },
     "metadata": {},
     "output_type": "display_data"
    },
    {
     "data": {
      "text/plain": [
       "<Figure size 720x540 with 0 Axes>"
      ]
     },
     "metadata": {},
     "output_type": "display_data"
    },
    {
     "data": {
      "text/plain": [
       "<Figure size 720x540 with 0 Axes>"
      ]
     },
     "metadata": {},
     "output_type": "display_data"
    },
    {
     "data": {
      "text/plain": [
       "<Figure size 720x540 with 0 Axes>"
      ]
     },
     "metadata": {},
     "output_type": "display_data"
    },
    {
     "data": {
      "text/plain": [
       "<Figure size 720x540 with 0 Axes>"
      ]
     },
     "metadata": {},
     "output_type": "display_data"
    },
    {
     "data": {
      "text/plain": [
       "<Figure size 720x540 with 0 Axes>"
      ]
     },
     "metadata": {},
     "output_type": "display_data"
    },
    {
     "data": {
      "text/plain": [
       "<Figure size 720x540 with 0 Axes>"
      ]
     },
     "metadata": {},
     "output_type": "display_data"
    },
    {
     "data": {
      "text/plain": [
       "<Figure size 720x540 with 0 Axes>"
      ]
     },
     "metadata": {},
     "output_type": "display_data"
    },
    {
     "data": {
      "text/plain": [
       "<Figure size 720x540 with 0 Axes>"
      ]
     },
     "metadata": {},
     "output_type": "display_data"
    },
    {
     "data": {
      "text/plain": [
       "<Figure size 720x540 with 0 Axes>"
      ]
     },
     "metadata": {},
     "output_type": "display_data"
    },
    {
     "data": {
      "text/plain": [
       "<Figure size 720x540 with 0 Axes>"
      ]
     },
     "metadata": {},
     "output_type": "display_data"
    }
   ],
   "source": [
    "# Eigenvector Centrality Histogram\n",
    "\n",
    "for year in years:\n",
    "    for code in codes:    \n",
    "        x = list(results[year, code][\"Eigen Centrality\"])\n",
    "        x = pd.Series(x)\n",
    "        \n",
    "        plt.figure(figsize=(10, 7.5))\n",
    "\n",
    "        ax = plt.subplot(111)\n",
    "        ax.get_xaxis().tick_bottom()  \n",
    "        ax.get_yaxis().tick_left()  \n",
    "\n",
    "        plt.xticks(fontsize=14)  \n",
    "        plt.yticks(fontsize=14)  \n",
    "\n",
    "        plt.xlabel(\"Eigen Centrality\", fontsize=16)  \n",
    "        plt.ylabel(\"Frequency\", fontsize=16)  \n",
    "    \n",
    "        bins = np.linspace(x.min(), x.max(), 100)\n",
    "        plt.hist(x, color=\"#3F5D7D\", ec='black', bins=bins)\n",
    "        plt.savefig(\"PycharmProjects/EnergyTradeAnalysis/Results/GraphsUnion/Centrality/EigenCentr_\" + str(code) + \"_\" + str(year) + \".png\", bbox_inches='tight', format='png', dpi=300)\n",
    "        plt.clf()\n"
   ]
  },
  {
   "cell_type": "code",
   "execution_count": null,
   "metadata": {},
   "outputs": [],
   "source": []
  }
 ],
 "metadata": {
  "kernelspec": {
   "display_name": "Python 3",
   "language": "python",
   "name": "python3"
  },
  "language_info": {
   "codemirror_mode": {
    "name": "ipython",
    "version": 3
   },
   "file_extension": ".py",
   "mimetype": "text/x-python",
   "name": "python",
   "nbconvert_exporter": "python",
   "pygments_lexer": "ipython3",
   "version": "3.6.9"
  }
 },
 "nbformat": 4,
 "nbformat_minor": 2
}
