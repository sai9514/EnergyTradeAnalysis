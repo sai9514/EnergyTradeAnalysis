{
 "cells": [
  {
   "cell_type": "code",
   "execution_count": 1,
   "metadata": {},
   "outputs": [],
   "source": [
    "import networkx as nx\n",
    "import os\n",
    "import numpy as np\n",
    "import matplotlib.pyplot as plt\n",
    "import pandas as pd\n",
    "import csv\n",
    "import copy"
   ]
  },
  {
   "cell_type": "code",
   "execution_count": 2,
   "metadata": {},
   "outputs": [],
   "source": [
    "# Reading back the prepared separate networks\n",
    "ports = ['1', '2']\n",
    "years = ['2005', '2010', '2015', '2017']\n",
    "codes = ['2701', '2709', '2711', '271111', '271121']\n",
    "\n",
    "G = {(port, year, code): nx.DiGraph() for port in ports for year in years for code in codes}\n",
    "\n",
    "for gKey in G:\n",
    "    G[gKey] = nx.read_gpickle(\"PycharmProjects/EnergyTradeAnalysis/Database/GPickleData/G_\" + str(gKey) + \".gp\")"
   ]
  },
  {
   "cell_type": "code",
   "execution_count": 4,
   "metadata": {},
   "outputs": [],
   "source": [
    "# Export Asymmetry Ratios\n",
    "# DIF(E) = (Exports(A to B) − Imports(B from A))/Exports(A to B)\n",
    "# ER(E) = (Exports(A to B) − Imports(B from A))/((Exports(A to B) + Imports(B from A))/2)\n",
    "\n",
    "expAssymRatioDIF = {(year, code): pd.DataFrame() for year in years for code in codes[:3]}\n",
    "expAssymRatioER = {(year, code): pd.DataFrame() for year in years for code in codes[:3]}\n",
    "\n",
    "for year in years:\n",
    "    for code in codes[:3]:\n",
    "        expAssymRatioDIF[(year, code)] = pd.DataFrame(columns=['Country A', 'Country B', 'Exp: A to B', 'Imp: B from A', 'ExpRatio'])\n",
    "        expAssymRatioER[(year, code)] = pd.DataFrame(columns=['Country A', 'Country B', 'Exp: A to B', 'Imp: B from A', 'ExpRatio'])\n",
    "\n",
    "        # for each edge in export network\n",
    "        for edge in list(G[(ports[1], year, code)].edges(data=True)):\n",
    "            exportValue = G[(ports[1], year, code)][edge[0]][edge[1]]['weight']\n",
    "            importValue = 0\n",
    "            \n",
    "            # if import network has the same edge\n",
    "            if G[(ports[0], year, code)].has_edge(edge[0], edge[1]):\n",
    "                importValue = G[(ports[0], year, code)][edge[0]][edge[1]]['weight']\n",
    "                    \n",
    "            if exportValue > 0:\n",
    "                expRatioDIF = (exportValue - importValue) * 100/ exportValue\n",
    "                expRatioER = (exportValue - importValue) * 100/ ((exportValue + importValue)/2)\n",
    "                     \n",
    "                toAppendDIF = [edge[0], edge[1], exportValue, importValue, expRatioDIF]\n",
    "                aSeriesDIF = pd.Series(toAppendDIF, index = expAssymRatioDIF[(year, code)].columns)\n",
    "                expAssymRatioDIF[(year, code)] = expAssymRatioDIF[(year, code)].append(aSeriesDIF, ignore_index=True)\n",
    "                \n",
    "                toAppendER = [edge[0], edge[1], exportValue, importValue, expRatioER]\n",
    "                aSeriesER = pd.Series(toAppendER, index = expAssymRatioER[(year, code)].columns)\n",
    "                expAssymRatioER[(year, code)] = expAssymRatioER[(year, code)].append(aSeriesER, ignore_index=True)\n",
    "                "
   ]
  },
  {
   "cell_type": "code",
   "execution_count": 6,
   "metadata": {},
   "outputs": [],
   "source": [
    "# Import Asymetry Ratios\n",
    "# DIF(I) = (Imports(B from A) − Exports(A to B))/Imports(B from A)\n",
    "# ER(I) = (Imports(B from A) − Exports(A to B))/((Imports(B from A) + Exports(A to B))/2)\n",
    "\n",
    "impAssymRatioDIF = {(year, code): pd.DataFrame() for year in years for code in codes[:3]}\n",
    "impAssymRatioER = {(year, code): pd.DataFrame() for year in years for code in codes[:3]}\n",
    "\n",
    "for year in years:\n",
    "    for code in codes[:3]:\n",
    "        impAssymRatioDIF[(year, code)] = pd.DataFrame(columns=['Country A', 'Country B', 'Imp: B from A', 'Exp: A to B', 'ImpRatio'])\n",
    "        impAssymRatioER[(year, code)] = pd.DataFrame(columns=['Country A', 'Country B', 'Imp: B from A', 'Exp: A to B', 'ImpRatio'])\n",
    "        \n",
    "        # for each edge in import network\n",
    "        for edge in list(G[(ports[0], year, code)].edges(data=True)):\n",
    "            exportValue = 0\n",
    "            importValue = G[(ports[0], year, code)][edge[0]][edge[1]]['weight']\n",
    "            \n",
    "            # if export network has the same edge\n",
    "            if G[(ports[1], year, code)].has_edge(edge[0], edge[1]):\n",
    "                exportValue = G[(ports[1], year, code)][edge[0]][edge[1]]['weight']\n",
    "        \n",
    "            if importValue > 0:\n",
    "                impRatioDIF = (importValue - exportValue) * 100 / importValue\n",
    "                impRatioER = (importValue - exportValue) * 100 / ((exportValue + importValue)/2)\n",
    "                \n",
    "                toAppendDIF = [edge[0], edge[1], importValue, exportValue, impRatioDIF]\n",
    "                aSeriesDIF = pd.Series(toAppendDIF, index = impAssymRatioDIF[(year, code)].columns)\n",
    "                impAssymRatioDIF[(year, code)] = impAssymRatioDIF[(year, code)].append(aSeriesDIF, ignore_index=True)\n",
    "\n",
    "                toAppendER = [edge[0], edge[1], importValue, exportValue, impRatioER]\n",
    "                aSeriesER = pd.Series(toAppendER, index = impAssymRatioER[(year, code)].columns)\n",
    "                impAssymRatioER[(year, code)] = impAssymRatioER[(year, code)].append(aSeriesER, ignore_index=True)\n"
   ]
  },
  {
   "cell_type": "code",
   "execution_count": 7,
   "metadata": {},
   "outputs": [],
   "source": [
    "for difKey in impAssymRatioDIF.keys():\n",
    "    impAssymRatioDIF[difKey].to_csv('PycharmProjects/EnergyTradeAnalysis/Results/Assymetry1/DIF_INA' + str(difKey) + '.csv', mode = 'w')\n",
    "    impAssymRatioER[difKey].to_csv('PycharmProjects/EnergyTradeAnalysis/Results/Assymetry2/ER_INA' + str(difKey) + '.csv', mode = 'w')\n",
    "\n",
    "for erKey in expAssymRatioDIF.keys():\n",
    "    expAssymRatioDIF[erKey].to_csv('PycharmProjects/EnergyTradeAnalysis/Results/Assymetry1/DIF_ENA' + str(erKey) + '.csv', mode = 'w')\n",
    "    expAssymRatioER[erKey].to_csv('PycharmProjects/EnergyTradeAnalysis/Results/Assymetry2/ER_ENA' + str(erKey) + '.csv', mode = 'w')\n"
   ]
  },
  {
   "cell_type": "code",
   "execution_count": 8,
   "metadata": {},
   "outputs": [
    {
     "name": "stderr",
     "output_type": "stream",
     "text": [
      "/usr/local/lib/python3.6/dist-packages/ipykernel_launcher.py:16: RuntimeWarning: divide by zero encountered in log\n",
      "  app.launch_new_instance()\n",
      "/usr/local/lib/python3.6/dist-packages/ipykernel_launcher.py:16: RuntimeWarning: invalid value encountered in double_scalars\n",
      "  app.launch_new_instance()\n"
     ]
    },
    {
     "data": {
      "text/plain": [
       "<Figure size 432x288 with 0 Axes>"
      ]
     },
     "metadata": {},
     "output_type": "display_data"
    }
   ],
   "source": [
    "# DIF Graph generation for both Export and Import\n",
    "for file in os.listdir('PycharmProjects/EnergyTradeAnalysis/Results/Assymetry1'):\n",
    "    with open('PycharmProjects/EnergyTradeAnalysis/Results/Assymetry1/' + file, encoding='utf-8', errors='ignore') as csv_file:\n",
    "        df = pd.read_csv(csv_file, index_col=0)\n",
    "        if 'ENA' in str(file):\n",
    "            expRatioList = sorted(df['ExpRatio'].tolist())\n",
    "            idList = list(df.index.values)\n",
    "            plt.scatter(idList, expRatioList, s=5, marker='.')\n",
    "            plt.xlabel(\"Edge Index\")\n",
    "            plt.ylabel('$DIF(E)_{it}^{AB}$')\n",
    "            plt.rc('font', size=14)          # controls default text sizes\n",
    "            plt.savefig(\"PycharmProjects/EnergyTradeAnalysis/Results/Assymetry1Graph/Real\" + str(file)[:-4] + \".png\", bbox_inches='tight', format='png', dpi=400)\n",
    "            plt.clf()    \n",
    "        elif 'INA' in str(file):\n",
    "            impRatioList = sorted(df['ImpRatio'].tolist())\n",
    "            impLogData = [np.sign(i)*np.log(abs(i)) for i in impRatioList]\n",
    "            idList = list(df.index.values)\n",
    "            plt.scatter(idList, impRatioList, s=5, marker='.')\n",
    "            plt.xlabel(\"Edge Index\")\n",
    "            plt.ylabel('$DIF(I)_{it}^{AB}$')\n",
    "            plt.rc('font', size=14)          # controls default text sizes\n",
    "            plt.savefig(\"PycharmProjects/EnergyTradeAnalysis/Results/Assymetry1Graph/Real\" + str(file)[:-4] + \".png\", bbox_inches='tight', format='png', dpi=400)\n",
    "            plt.clf()\n",
    "            "
   ]
  },
  {
   "cell_type": "code",
   "execution_count": 9,
   "metadata": {},
   "outputs": [
    {
     "name": "stderr",
     "output_type": "stream",
     "text": [
      "/usr/local/lib/python3.6/dist-packages/ipykernel_launcher.py:17: RuntimeWarning: divide by zero encountered in log\n",
      "/usr/local/lib/python3.6/dist-packages/ipykernel_launcher.py:17: RuntimeWarning: invalid value encountered in double_scalars\n",
      "/usr/local/lib/python3.6/dist-packages/ipykernel_launcher.py:7: RuntimeWarning: divide by zero encountered in log\n",
      "  import sys\n",
      "/usr/local/lib/python3.6/dist-packages/ipykernel_launcher.py:7: RuntimeWarning: invalid value encountered in double_scalars\n",
      "  import sys\n"
     ]
    },
    {
     "data": {
      "text/plain": [
       "<Figure size 432x288 with 0 Axes>"
      ]
     },
     "metadata": {},
     "output_type": "display_data"
    }
   ],
   "source": [
    "# log(DIF) Graph generation for both Export and Import\n",
    "for file in os.listdir('PycharmProjects/EnergyTradeAnalysis/Results/Assymetry1'):\n",
    "    with open('PycharmProjects/EnergyTradeAnalysis/Results/Assymetry1/' + file, encoding='utf-8', errors='ignore') as csv_file:\n",
    "        df = pd.read_csv(csv_file, index_col=0)\n",
    "        if 'ENA' in str(file):\n",
    "            expRatioList = sorted(df['ExpRatio'].tolist())\n",
    "            expLogData = [np.sign(i)*np.log(abs(i)) for i in expRatioList]\n",
    "            idList = list(df.index.values)\n",
    "            plt.scatter(idList, expLogData, s=5, marker='.')\n",
    "            plt.xlabel(\"Edge Index\")\n",
    "            plt.ylabel('$log(DIF(E)_{it}^{AB})$')\n",
    "            plt.rc('font', size=14)          # controls default text sizes\n",
    "            plt.savefig(\"PycharmProjects/EnergyTradeAnalysis/Results/Assymetry1Graph/Log\" + str(file)[:-4] + \".png\", bbox_inches='tight', format='png', dpi=400)\n",
    "            plt.clf()    \n",
    "        elif 'INA' in str(file):\n",
    "            impRatioList = sorted(df['ImpRatio'].tolist())\n",
    "            impLogData = [np.sign(i)*np.log(abs(i)) for i in impRatioList]\n",
    "            idList = list(df.index.values)\n",
    "            plt.scatter(idList, impLogData, s=5, marker='.')\n",
    "            plt.xlabel(\"Edge Index\")\n",
    "            plt.ylabel('$log(DIF(I)_{it}^{AB})$')\n",
    "            plt.rc('font', size=14)          # controls default text sizes\n",
    "            plt.savefig(\"PycharmProjects/EnergyTradeAnalysis/Results/Assymetry1Graph/Log\" + str(file)[:-4] + \".png\", bbox_inches='tight', format='png', dpi=400)\n",
    "            plt.clf()\n",
    "            "
   ]
  },
  {
   "cell_type": "code",
   "execution_count": 10,
   "metadata": {},
   "outputs": [
    {
     "data": {
      "text/plain": [
       "<Figure size 432x288 with 0 Axes>"
      ]
     },
     "metadata": {},
     "output_type": "display_data"
    }
   ],
   "source": [
    "# ER Graph generation for both Export and Import\n",
    "for file in os.listdir('PycharmProjects/EnergyTradeAnalysis/Results/Assymetry2'):\n",
    "    with open('PycharmProjects/EnergyTradeAnalysis/Results/Assymetry2/' + file, encoding='utf-8', errors='ignore') as csv_file:\n",
    "        df = pd.read_csv(csv_file, index_col=0)\n",
    "        if 'ENA' in str(file):\n",
    "            expRatioList = sorted(df['ExpRatio'].tolist())\n",
    "            idList = list(df.index.values)\n",
    "            plt.scatter(idList, expRatioList, s=5, marker='.')\n",
    "            plt.xlabel(\"Edge Index\")\n",
    "            plt.ylabel('$ER(E)_{it}^{AB}$')\n",
    "            plt.rc('font', size=14)          # controls default text sizes\n",
    "            plt.savefig(\"PycharmProjects/EnergyTradeAnalysis/Results/Assymetry2Graph/Real\" + str(file)[:-4] + \".png\", bbox_inches='tight', format='png', dpi=400)\n",
    "            plt.clf()    \n",
    "        elif 'INA' in str(file):\n",
    "            impRatioList = sorted(df['ImpRatio'].tolist())\n",
    "            idList = list(df.index.values)\n",
    "            plt.scatter(idList, impRatioList, s=5, marker='.')\n",
    "            plt.xlabel(\"Edge Index\")\n",
    "            plt.ylabel('$ER(I)_{it}^{AB}$')\n",
    "            plt.rc('font', size=14)          # controls default text sizes\n",
    "            plt.savefig(\"PycharmProjects/EnergyTradeAnalysis/Results/Assymetry2Graph/Real\" + str(file)[:-4] + \".png\", bbox_inches='tight', format='png', dpi=400)\n",
    "            plt.clf()\n",
    "            "
   ]
  },
  {
   "cell_type": "code",
   "execution_count": 12,
   "metadata": {},
   "outputs": [],
   "source": [
    "# Not important - Just renaming the image files for latex\n",
    "\n",
    "for file in os.listdir('PycharmProjects/EnergyTradeAnalysis/Results/Assymetry1Graph'):\n",
    "    if 'Log' in str(file):\n",
    "        if 'INA' in str(file):\n",
    "            code = str(file[20:-6])\n",
    "            year = str(file[12:-14])\n",
    "            os.rename('PycharmProjects/EnergyTradeAnalysis/Results/Assymetry1Graph/' + file,'PycharmProjects/EnergyTradeAnalysis/Results/Assymetry1Graph/' + 'DIFINALog-' + code + '-' + year + '.png')\n",
    "        elif 'ENA' in str(file):\n",
    "            code = str(file[20:-6])\n",
    "            year = str(file[12:-14])\n",
    "            os.rename('PycharmProjects/EnergyTradeAnalysis/Results/Assymetry1Graph/' + file,'PycharmProjects/EnergyTradeAnalysis/Results/Assymetry1Graph/' + 'DIFENALog-' + code + '-' + year + '.png')\n",
    "    else:\n",
    "        if 'INA' in str(file):\n",
    "            code = str(file[21:-6])\n",
    "            year = str(file[13:-14])\n",
    "            os.rename('PycharmProjects/EnergyTradeAnalysis/Results/Assymetry1Graph/' + file,'PycharmProjects/EnergyTradeAnalysis/Results/Assymetry1Graph/' + 'DIFINA-' + code + '-' + year + '.png')\n",
    "        elif 'ENA' in str(file):\n",
    "            code = str(file[21:-6])\n",
    "            year = str(file[13:-14])\n",
    "            os.rename('PycharmProjects/EnergyTradeAnalysis/Results/Assymetry1Graph/' + file,'PycharmProjects/EnergyTradeAnalysis/Results/Assymetry1Graph/' + 'DIFENA-' + code + '-' + year + '.png')\n"
   ]
  },
  {
   "cell_type": "code",
   "execution_count": 11,
   "metadata": {},
   "outputs": [],
   "source": [
    "# Not important - Just renaming the image files for latex\n",
    "\n",
    "for file in os.listdir('PycharmProjects/EnergyTradeAnalysis/Results/Assymetry2Graph'):\n",
    "    if 'Real' in str(file):\n",
    "        if 'INA' in str(file):\n",
    "            code = str(file[20:-6])\n",
    "            year = str(file[12:-14])\n",
    "            os.rename('PycharmProjects/EnergyTradeAnalysis/Results/Assymetry2Graph/' + file,'PycharmProjects/EnergyTradeAnalysis/Results/Assymetry2Graph/' + 'ERINA-' + code + '-' + year + '.png')\n",
    "        elif 'ENA' in str(file):\n",
    "            code = str(file[20:-6])\n",
    "            year = str(file[12:-14])\n",
    "            os.rename('PycharmProjects/EnergyTradeAnalysis/Results/Assymetry2Graph/' + file,'PycharmProjects/EnergyTradeAnalysis/Results/Assymetry2Graph/' + 'ERENA-' + code + '-' + year + '.png')\n"
   ]
  },
  {
   "cell_type": "code",
   "execution_count": null,
   "metadata": {},
   "outputs": [],
   "source": []
  }
 ],
 "metadata": {
  "kernelspec": {
   "display_name": "Python 3",
   "language": "python",
   "name": "python3"
  },
  "language_info": {
   "codemirror_mode": {
    "name": "ipython",
    "version": 3
   },
   "file_extension": ".py",
   "mimetype": "text/x-python",
   "name": "python",
   "nbconvert_exporter": "python",
   "pygments_lexer": "ipython3",
   "version": "3.6.9"
  }
 },
 "nbformat": 4,
 "nbformat_minor": 2
}
